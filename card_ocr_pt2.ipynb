{
 "cells": [
  {
   "cell_type": "code",
   "execution_count": 174,
   "metadata": {},
   "outputs": [
    {
     "name": "stdout",
     "output_type": "stream",
     "text": [
      "D:\\Code\\tessdata\n"
     ]
    }
   ],
   "source": [
    "import pytesseract\n",
    "from PIL import Image, ImageOps\n",
    "import os\n",
    "from glob import glob\n",
    "import numpy as np\n",
    "import matplotlib.pyplot as plt\n",
    "import cv2\n",
    "print(os.environ['TESSDATA_PREFIX'])"
   ]
  },
  {
   "cell_type": "code",
   "execution_count": 175,
   "metadata": {},
   "outputs": [],
   "source": [
    "def get_title(im):\n",
    "    imarray = np.array(im)\n",
    "    imarray_gray = cv2.cvtColor(imarray,cv2.COLOR_RGB2GRAY)\n",
    "    _,  thresh = cv2.threshold(imarray_gray, 60, 255, cv2.THRESH_OTSU)\n",
    "    title = thresh[0:int(imarray.shape[0]//8.9), int(imarray.shape[1]//4.3):int(imarray.shape[1]-1)]\n",
    "    for i in range(title.shape[1]):\n",
    "        cv2.floodFill(title, None, (i,title.shape[0]-1), 0)\n",
    "        cv2.floodFill(title, None, (i,0), 0)\n",
    "    kernel = np.ones((5,5), np.uint8)\n",
    "    dilated = cv2.dilate(title, kernel, iterations = 2)\n",
    "    cv2.floodFill(dilated, None, (0,0), 0)\n",
    "    cv2.floodFill(dilated, None, (title.shape[1]-1,title.shape[0]-1), 0)\n",
    "    title_cleaned = cv2.bitwise_and(title, dilated)\n",
    "    # plt.imshow(title_cleaned)\n",
    "    # plt.show()\n",
    "    return pytesseract.image_to_string(Image.fromarray(title_cleaned))\n",
    "    \n",
    "def get_textbox(im):\n",
    "    imarray = np.array(im)\n",
    "    textbox = cv2.cvtColor(imarray[250:, :], cv2.COLOR_RGB2GRAY)\n",
    "    _, thresh = cv2.threshold(textbox, 50, 255, cv2.THRESH_OTSU)\n",
    "    cv2.floodFill(thresh, None, (0,0), 255)\n",
    "    # plt.imshow(thresh)\n",
    "    # plt.show()\n",
    "    return pytesseract.image_to_string(Image.fromarray(thresh))"
   ]
  },
  {
   "cell_type": "code",
   "execution_count": 176,
   "metadata": {},
   "outputs": [],
   "source": [
    "cards = []\n",
    "for i in glob('./cards/*.png')[::-1]:\n",
    "    im = Image.open(i)\n",
    "    title = get_title(im).replace('\\n', ' ')\n",
    "    txtbox = get_textbox(im).replace('\\n', ' ')\n",
    "    card = {}\n",
    "    card['name'] = title\n",
    "    card['text'] = txtbox\n",
    "    cards.append(card)"
   ]
  },
  {
   "cell_type": "code",
   "execution_count": 177,
   "metadata": {},
   "outputs": [],
   "source": [
    "import json\n",
    "\n",
    "# final = json.dumps(cards, indent=1)\n",
    "with open(\"card_jsons/cloud_spirit_sword.json\", 'w') as final:\n",
    "    json.dump(cards, final)\n",
    "\n"
   ]
  }
 ],
 "metadata": {
  "kernelspec": {
   "display_name": "Python 3",
   "language": "python",
   "name": "python3"
  },
  "language_info": {
   "codemirror_mode": {
    "name": "ipython",
    "version": 3
   },
   "file_extension": ".py",
   "mimetype": "text/x-python",
   "name": "python",
   "nbconvert_exporter": "python",
   "pygments_lexer": "ipython3",
   "version": "3.10.6"
  },
  "orig_nbformat": 4,
  "vscode": {
   "interpreter": {
    "hash": "369f2c481f4da34e4445cda3fffd2e751bd1c4d706f27375911949ba6bb62e1c"
   }
  }
 },
 "nbformat": 4,
 "nbformat_minor": 2
}
